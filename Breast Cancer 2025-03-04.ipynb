{
 "cells": [
  {
   "cell_type": "markdown",
   "id": "263bab8d",
   "metadata": {},
   "source": [
    "## Identifying Key Predictors of Breast Cancer Using Machine Learning Algorithms"
   ]
  },
  {
   "cell_type": "markdown",
   "id": "837240b3",
   "metadata": {},
   "source": [
    "# 1. Main Objective of the Analysis\n",
    "The primary goal of this project is predictive, focusing on developing a reliable classification model that can distinguish between malignant and benign breast tumors. Although interpretability is also valuable—understanding which cell features most strongly correlate with malignancy—the immediate objective is to predict tumor status accurately for early medical intervention. From a healthcare or clinical standpoint, an accurate predictive model for breast cancer diagnosis provides significant benefits:\n",
    "\n",
    "- Timely Detection: Early detection of malignant tumors can dramatically improve patient outcomes and reduce healthcare costs.\n",
    "\n",
    "- Resource Allocation: Hospitals and clinics can prioritize high-risk patients for more thorough medical examinations and follow-up procedures, optimizing limited resources.\n",
    "\n",
    "- Clinical Decision Support: Oncologists and medical professionals gain a data-driven tool that complements traditional diagnostic methods (e.g., imaging, biopsy) and enhances patient care."
   ]
  },
  {
   "cell_type": "markdown",
   "id": "f00a58a2",
   "metadata": {},
   "source": [
    "# 2. Brief Description of the Dataset and Analysis Plan\n",
    "\n",
    "Breast Cancer Wisconsin (Diagnostic) Dataset\n",
    "\n",
    "- Dependent Variable (Target): Diagnosis (Benign = 0, Malignant = 1)\n",
    "\n",
    "- Independent Variables: 30 numeric features describing cell nuclei characteristics (e.g., radius, texture, perimeter, area, smoothness, etc.)\n",
    "\n",
    "In this analysis, we aim to:\n",
    "\n",
    "- Clean and preprocess the data to handle any missing or inconsistent values and ensure the features are suitably scaled or transformed where necessary.\n",
    "- Train and compare several machine learning classification models (e.g., Logistic Regression, Random Forest, Gradient Boosting ) to find the most effective approach for predicting malignancy.\n",
    "- Evaluate model performance using appropriate metrics such as accuracy, precision, recall, and F1-score to ensure a balance between correctly detecting malignant cases (sensitivity) and avoiding false alarms.\n",
    "- Interpret key drivers of the predictive model to understand which features are most influential in distinguishing malignant from benign cases—insights that could potentially guide medical professionals in diagnostic decisions.\n",
    "\n",
    "Ultimately, the analysis aims to provide an accurate and interpretable predictive tool that can assist healthcare stakeholders in diagnosing breast cancer and improving patient outcomes."
   ]
  },
  {
   "cell_type": "code",
   "execution_count": 1,
   "id": "648cf219",
   "metadata": {},
   "outputs": [
    {
     "name": "stdout",
     "output_type": "stream",
     "text": [
      "         0  1      2      3       4       5        6        7       8   \\\n",
      "0    842302  M  17.99  10.38  122.80  1001.0  0.11840  0.27760  0.3001   \n",
      "1    842517  M  20.57  17.77  132.90  1326.0  0.08474  0.07864  0.0869   \n",
      "2  84300903  M  19.69  21.25  130.00  1203.0  0.10960  0.15990  0.1974   \n",
      "3  84348301  M  11.42  20.38   77.58   386.1  0.14250  0.28390  0.2414   \n",
      "4  84358402  M  20.29  14.34  135.10  1297.0  0.10030  0.13280  0.1980   \n",
      "\n",
      "        9   ...     22     23      24      25      26      27      28      29  \\\n",
      "0  0.14710  ...  25.38  17.33  184.60  2019.0  0.1622  0.6656  0.7119  0.2654   \n",
      "1  0.07017  ...  24.99  23.41  158.80  1956.0  0.1238  0.1866  0.2416  0.1860   \n",
      "2  0.12790  ...  23.57  25.53  152.50  1709.0  0.1444  0.4245  0.4504  0.2430   \n",
      "3  0.10520  ...  14.91  26.50   98.87   567.7  0.2098  0.8663  0.6869  0.2575   \n",
      "4  0.10430  ...  22.54  16.67  152.20  1575.0  0.1374  0.2050  0.4000  0.1625   \n",
      "\n",
      "       30       31  \n",
      "0  0.4601  0.11890  \n",
      "1  0.2750  0.08902  \n",
      "2  0.3613  0.08758  \n",
      "3  0.6638  0.17300  \n",
      "4  0.2364  0.07678  \n",
      "\n",
      "[5 rows x 32 columns]\n"
     ]
    }
   ],
   "source": [
    "import pandas as pd\n",
    "# Use a raw string (r\"\") to avoid issues with backslashes in the file path\n",
    "file_path = r\"C:\\Users\\ams40\\IBM\\3 Supervised Machine Learning- Classification\\Module 6\\Final project\\wdbc.data\"\n",
    "\n",
    "# If the dataset does not have column headers included, set header=None\n",
    "data = pd.read_csv(file_path, header=None)\n",
    "\n",
    "# Take a quick look at the data\n",
    "print(data.head())"
   ]
  },
  {
   "cell_type": "code",
   "execution_count": 2,
   "id": "f403cc06",
   "metadata": {},
   "outputs": [
    {
     "data": {
      "text/html": [
       "<div>\n",
       "<style scoped>\n",
       "    .dataframe tbody tr th:only-of-type {\n",
       "        vertical-align: middle;\n",
       "    }\n",
       "\n",
       "    .dataframe tbody tr th {\n",
       "        vertical-align: top;\n",
       "    }\n",
       "\n",
       "    .dataframe thead th {\n",
       "        text-align: right;\n",
       "    }\n",
       "</style>\n",
       "<table border=\"1\" class=\"dataframe\">\n",
       "  <thead>\n",
       "    <tr style=\"text-align: right;\">\n",
       "      <th></th>\n",
       "      <th>ID</th>\n",
       "      <th>Diagnosis</th>\n",
       "      <th>Radius_mean</th>\n",
       "      <th>Texture_mean</th>\n",
       "      <th>Perimeter_mean</th>\n",
       "      <th>Area_mean</th>\n",
       "      <th>Smoothness_mean</th>\n",
       "      <th>Compactness_mean</th>\n",
       "      <th>Concavity_mean</th>\n",
       "      <th>Concave_points_mean</th>\n",
       "      <th>...</th>\n",
       "      <th>Radius_worst</th>\n",
       "      <th>Texture_worst</th>\n",
       "      <th>Perimeter_worst</th>\n",
       "      <th>Area_worst</th>\n",
       "      <th>Smoothness_worst</th>\n",
       "      <th>Compactness_worst</th>\n",
       "      <th>Concavity_worst</th>\n",
       "      <th>Concave_points_worst</th>\n",
       "      <th>Symmetry_worst</th>\n",
       "      <th>Fractal_dimension_worst</th>\n",
       "    </tr>\n",
       "  </thead>\n",
       "  <tbody>\n",
       "    <tr>\n",
       "      <th>0</th>\n",
       "      <td>842302</td>\n",
       "      <td>M</td>\n",
       "      <td>17.99</td>\n",
       "      <td>10.38</td>\n",
       "      <td>122.80</td>\n",
       "      <td>1001.0</td>\n",
       "      <td>0.11840</td>\n",
       "      <td>0.27760</td>\n",
       "      <td>0.3001</td>\n",
       "      <td>0.14710</td>\n",
       "      <td>...</td>\n",
       "      <td>25.38</td>\n",
       "      <td>17.33</td>\n",
       "      <td>184.60</td>\n",
       "      <td>2019.0</td>\n",
       "      <td>0.1622</td>\n",
       "      <td>0.6656</td>\n",
       "      <td>0.7119</td>\n",
       "      <td>0.2654</td>\n",
       "      <td>0.4601</td>\n",
       "      <td>0.11890</td>\n",
       "    </tr>\n",
       "    <tr>\n",
       "      <th>1</th>\n",
       "      <td>842517</td>\n",
       "      <td>M</td>\n",
       "      <td>20.57</td>\n",
       "      <td>17.77</td>\n",
       "      <td>132.90</td>\n",
       "      <td>1326.0</td>\n",
       "      <td>0.08474</td>\n",
       "      <td>0.07864</td>\n",
       "      <td>0.0869</td>\n",
       "      <td>0.07017</td>\n",
       "      <td>...</td>\n",
       "      <td>24.99</td>\n",
       "      <td>23.41</td>\n",
       "      <td>158.80</td>\n",
       "      <td>1956.0</td>\n",
       "      <td>0.1238</td>\n",
       "      <td>0.1866</td>\n",
       "      <td>0.2416</td>\n",
       "      <td>0.1860</td>\n",
       "      <td>0.2750</td>\n",
       "      <td>0.08902</td>\n",
       "    </tr>\n",
       "    <tr>\n",
       "      <th>2</th>\n",
       "      <td>84300903</td>\n",
       "      <td>M</td>\n",
       "      <td>19.69</td>\n",
       "      <td>21.25</td>\n",
       "      <td>130.00</td>\n",
       "      <td>1203.0</td>\n",
       "      <td>0.10960</td>\n",
       "      <td>0.15990</td>\n",
       "      <td>0.1974</td>\n",
       "      <td>0.12790</td>\n",
       "      <td>...</td>\n",
       "      <td>23.57</td>\n",
       "      <td>25.53</td>\n",
       "      <td>152.50</td>\n",
       "      <td>1709.0</td>\n",
       "      <td>0.1444</td>\n",
       "      <td>0.4245</td>\n",
       "      <td>0.4504</td>\n",
       "      <td>0.2430</td>\n",
       "      <td>0.3613</td>\n",
       "      <td>0.08758</td>\n",
       "    </tr>\n",
       "    <tr>\n",
       "      <th>3</th>\n",
       "      <td>84348301</td>\n",
       "      <td>M</td>\n",
       "      <td>11.42</td>\n",
       "      <td>20.38</td>\n",
       "      <td>77.58</td>\n",
       "      <td>386.1</td>\n",
       "      <td>0.14250</td>\n",
       "      <td>0.28390</td>\n",
       "      <td>0.2414</td>\n",
       "      <td>0.10520</td>\n",
       "      <td>...</td>\n",
       "      <td>14.91</td>\n",
       "      <td>26.50</td>\n",
       "      <td>98.87</td>\n",
       "      <td>567.7</td>\n",
       "      <td>0.2098</td>\n",
       "      <td>0.8663</td>\n",
       "      <td>0.6869</td>\n",
       "      <td>0.2575</td>\n",
       "      <td>0.6638</td>\n",
       "      <td>0.17300</td>\n",
       "    </tr>\n",
       "    <tr>\n",
       "      <th>4</th>\n",
       "      <td>84358402</td>\n",
       "      <td>M</td>\n",
       "      <td>20.29</td>\n",
       "      <td>14.34</td>\n",
       "      <td>135.10</td>\n",
       "      <td>1297.0</td>\n",
       "      <td>0.10030</td>\n",
       "      <td>0.13280</td>\n",
       "      <td>0.1980</td>\n",
       "      <td>0.10430</td>\n",
       "      <td>...</td>\n",
       "      <td>22.54</td>\n",
       "      <td>16.67</td>\n",
       "      <td>152.20</td>\n",
       "      <td>1575.0</td>\n",
       "      <td>0.1374</td>\n",
       "      <td>0.2050</td>\n",
       "      <td>0.4000</td>\n",
       "      <td>0.1625</td>\n",
       "      <td>0.2364</td>\n",
       "      <td>0.07678</td>\n",
       "    </tr>\n",
       "  </tbody>\n",
       "</table>\n",
       "<p>5 rows × 32 columns</p>\n",
       "</div>"
      ],
      "text/plain": [
       "         ID Diagnosis  Radius_mean  Texture_mean  Perimeter_mean  Area_mean  \\\n",
       "0    842302         M        17.99         10.38          122.80     1001.0   \n",
       "1    842517         M        20.57         17.77          132.90     1326.0   \n",
       "2  84300903         M        19.69         21.25          130.00     1203.0   \n",
       "3  84348301         M        11.42         20.38           77.58      386.1   \n",
       "4  84358402         M        20.29         14.34          135.10     1297.0   \n",
       "\n",
       "   Smoothness_mean  Compactness_mean  Concavity_mean  Concave_points_mean  \\\n",
       "0          0.11840           0.27760          0.3001              0.14710   \n",
       "1          0.08474           0.07864          0.0869              0.07017   \n",
       "2          0.10960           0.15990          0.1974              0.12790   \n",
       "3          0.14250           0.28390          0.2414              0.10520   \n",
       "4          0.10030           0.13280          0.1980              0.10430   \n",
       "\n",
       "   ...  Radius_worst  Texture_worst  Perimeter_worst  Area_worst  \\\n",
       "0  ...         25.38          17.33           184.60      2019.0   \n",
       "1  ...         24.99          23.41           158.80      1956.0   \n",
       "2  ...         23.57          25.53           152.50      1709.0   \n",
       "3  ...         14.91          26.50            98.87       567.7   \n",
       "4  ...         22.54          16.67           152.20      1575.0   \n",
       "\n",
       "   Smoothness_worst  Compactness_worst  Concavity_worst  Concave_points_worst  \\\n",
       "0            0.1622             0.6656           0.7119                0.2654   \n",
       "1            0.1238             0.1866           0.2416                0.1860   \n",
       "2            0.1444             0.4245           0.4504                0.2430   \n",
       "3            0.2098             0.8663           0.6869                0.2575   \n",
       "4            0.1374             0.2050           0.4000                0.1625   \n",
       "\n",
       "   Symmetry_worst  Fractal_dimension_worst  \n",
       "0          0.4601                  0.11890  \n",
       "1          0.2750                  0.08902  \n",
       "2          0.3613                  0.08758  \n",
       "3          0.6638                  0.17300  \n",
       "4          0.2364                  0.07678  \n",
       "\n",
       "[5 rows x 32 columns]"
      ]
     },
     "execution_count": 2,
     "metadata": {},
     "output_type": "execute_result"
    }
   ],
   "source": [
    "# According to the dataset documentation, the columns might be:\n",
    "column_names = [\n",
    "    \"ID\",\n",
    "    \"Diagnosis\",\n",
    "    \"Radius_mean\",\n",
    "    \"Texture_mean\",\n",
    "    \"Perimeter_mean\",\n",
    "    \"Area_mean\",\n",
    "    \"Smoothness_mean\",\n",
    "    \"Compactness_mean\",\n",
    "    \"Concavity_mean\",\n",
    "    \"Concave_points_mean\",\n",
    "    \"Symmetry_mean\",\n",
    "    \"Fractal_dimension_mean\",\n",
    "    \"Radius_se\",\n",
    "    \"Texture_se\",\n",
    "    \"Perimeter_se\",\n",
    "    \"Area_se\",\n",
    "    \"Smoothness_se\",\n",
    "    \"Compactness_se\",\n",
    "    \"Concavity_se\",\n",
    "    \"Concave_points_se\",\n",
    "    \"Symmetry_se\",\n",
    "    \"Fractal_dimension_se\",\n",
    "    \"Radius_worst\",\n",
    "    \"Texture_worst\",\n",
    "    \"Perimeter_worst\",\n",
    "    \"Area_worst\",\n",
    "    \"Smoothness_worst\",\n",
    "    \"Compactness_worst\",\n",
    "    \"Concavity_worst\",\n",
    "    \"Concave_points_worst\",\n",
    "    \"Symmetry_worst\",\n",
    "    \"Fractal_dimension_worst\",\n",
    "]\n",
    "\n",
    "data = pd.read_csv(file_path, header=None, names=column_names)\n",
    "data.head()"
   ]
  },
  {
   "cell_type": "markdown",
   "id": "24907981",
   "metadata": {},
   "source": [
    "# 3. Data exploration, data cleaning, and feature engineering\n",
    "- The data is cleaned by removing non-predictive columns and encoding the target variable.\n",
    "- Standardization is applied to address feature scale disparities.\n"
   ]
  },
  {
   "cell_type": "code",
   "execution_count": 3,
   "id": "58ca8d34",
   "metadata": {},
   "outputs": [
    {
     "name": "stdout",
     "output_type": "stream",
     "text": [
      "Missing Values: 0\n"
     ]
    }
   ],
   "source": [
    "from sklearn.preprocessing import StandardScaler\n",
    "from sklearn.model_selection import train_test_split\n",
    "\n",
    "# Removing Non-Predictive Columns and Encoding the Target Variable\n",
    "# Drop the ID column\n",
    "data = data.drop(columns=['ID'])\n",
    "\n",
    "# Encode the target variable (Diagnosis: M -> 1, B -> 0)\n",
    "data['Diagnosis'] = data['Diagnosis'].map({'M': 1, 'B': 0})\n",
    "\n",
    "# Checking for Missing Values\n",
    "missing_values = data.isnull().sum().sum()\n",
    "print(f\"Missing Values: {missing_values}\")"
   ]
  },
  {
   "cell_type": "markdown",
   "id": "e54a2a46",
   "metadata": {},
   "source": [
    "## 3.1. Is the data Imbalanced?"
   ]
  },
  {
   "cell_type": "code",
   "execution_count": 4,
   "id": "33db8596",
   "metadata": {},
   "outputs": [
    {
     "data": {
      "text/plain": [
       "0    357\n",
       "1    212\n",
       "Name: Diagnosis, dtype: int64"
      ]
     },
     "execution_count": 4,
     "metadata": {},
     "output_type": "execute_result"
    }
   ],
   "source": [
    "data['Diagnosis'].value_counts()"
   ]
  },
  {
   "cell_type": "code",
   "execution_count": 5,
   "id": "ba8a4c06",
   "metadata": {},
   "outputs": [
    {
     "data": {
      "text/plain": [
       "<AxesSubplot:>"
      ]
     },
     "execution_count": 5,
     "metadata": {},
     "output_type": "execute_result"
    },
    {
     "data": {
      "image/png": "[encoded data removed]",
      "text/plain": [
       "<Figure size 432x288 with 1 Axes>"
      ]
     },
     "metadata": {
      "needs_background": "light"
     },
     "output_type": "display_data"
    }
   ],
   "source": [
    "data['Diagnosis'].value_counts().plot.bar(color=['green', 'red'])"
   ]
  },
  {
   "cell_type": "markdown",
   "id": "b453053e",
   "metadata": {},
   "source": [
    "0 (Benign): 357  (~62.8%)\n",
    "\n",
    "1 (Malignant): 212  (~37.2%)\n",
    "\n",
    "the data is somewhat imbalanced but not severely.\n",
    "\n",
    "- Impact on Models:\n",
    "\n",
    "Logistic Regression: May produce biased predictions towards the majority class.\n",
    "\n",
    "Random Forest: Less sensitive to imbalance due to bootstrapping but could still favor the majority class.\n",
    "\n",
    "- Recommended Actions:\n",
    "Class Weight Adjustment to give more weight to the minority class in models like Logistic Regression and Random Forest. "
   ]
  },
  {
   "cell_type": "markdown",
   "id": "4b6f4d0f",
   "metadata": {},
   "source": [
    "Define a function to split our dataset to training and testing datasets:"
   ]
  },
  {
   "cell_type": "code",
   "execution_count": 6,
   "id": "1ceb8f5e",
   "metadata": {},
   "outputs": [],
   "source": [
    "rs = 123\n",
    "def split_data(df):\n",
    "    X = data.drop(columns=['Diagnosis'])\n",
    "    y = data['Diagnosis']\n",
    "    return train_test_split(X, y, test_size=0.2, stratify=y, random_state = rs)"
   ]
  },
  {
   "cell_type": "code",
   "execution_count": 7,
   "id": "03272c3a",
   "metadata": {},
   "outputs": [],
   "source": [
    "# Split the training and testing dataset\n",
    "X_train, X_test, y_train, y_test = split_data(data)"
   ]
  },
  {
   "cell_type": "markdown",
   "id": "9c6c6c94",
   "metadata": {},
   "source": [
    "Standardization of Features (Z-score scaling)\n"
   ]
  },
  {
   "cell_type": "code",
   "execution_count": 8,
   "id": "fae22227",
   "metadata": {},
   "outputs": [],
   "source": [
    "scaler = StandardScaler()\n",
    "X_train = scaler.fit_transform(X_train)  # Fit on train and transform train data\n",
    "X_test = scaler.transform(X_test)        # Transform test data using the same scaler"
   ]
  },
  {
   "cell_type": "markdown",
   "id": "2a61a187",
   "metadata": {},
   "source": [
    "Display results"
   ]
  },
  {
   "cell_type": "code",
   "execution_count": 9,
   "id": "9b9f1c5f",
   "metadata": {},
   "outputs": [
    {
     "name": "stdout",
     "output_type": "stream",
     "text": [
      "X_train Shape: (455, 30)\n",
      "X_test Shape: (114, 30)\n",
      "y_train Shape: (455,)\n",
      "y_test Shape: (114,)\n"
     ]
    }
   ],
   "source": [
    "print(f\"X_train Shape: {X_train.shape}\")\n",
    "print(f\"X_test Shape: {X_test.shape}\")\n",
    "print(f\"y_train Shape: {y_train.shape}\")\n",
    "print(f\"y_test Shape: {y_test.shape}\")"
   ]
  },
  {
   "cell_type": "code",
   "execution_count": 10,
   "id": "6c45246f",
   "metadata": {},
   "outputs": [
    {
     "data": {
      "text/html": [
       "<div>\n",
       "<style scoped>\n",
       "    .dataframe tbody tr th:only-of-type {\n",
       "        vertical-align: middle;\n",
       "    }\n",
       "\n",
       "    .dataframe tbody tr th {\n",
       "        vertical-align: top;\n",
       "    }\n",
       "\n",
       "    .dataframe thead th {\n",
       "        text-align: right;\n",
       "    }\n",
       "</style>\n",
       "<table border=\"1\" class=\"dataframe\">\n",
       "  <thead>\n",
       "    <tr style=\"text-align: right;\">\n",
       "      <th></th>\n",
       "      <th>Radius_mean</th>\n",
       "      <th>Texture_mean</th>\n",
       "      <th>Perimeter_mean</th>\n",
       "      <th>Area_mean</th>\n",
       "      <th>Smoothness_mean</th>\n",
       "      <th>Compactness_mean</th>\n",
       "      <th>Concavity_mean</th>\n",
       "      <th>Concave_points_mean</th>\n",
       "      <th>Symmetry_mean</th>\n",
       "      <th>Fractal_dimension_mean</th>\n",
       "      <th>...</th>\n",
       "      <th>Radius_worst</th>\n",
       "      <th>Texture_worst</th>\n",
       "      <th>Perimeter_worst</th>\n",
       "      <th>Area_worst</th>\n",
       "      <th>Smoothness_worst</th>\n",
       "      <th>Compactness_worst</th>\n",
       "      <th>Concavity_worst</th>\n",
       "      <th>Concave_points_worst</th>\n",
       "      <th>Symmetry_worst</th>\n",
       "      <th>Fractal_dimension_worst</th>\n",
       "    </tr>\n",
       "  </thead>\n",
       "  <tbody>\n",
       "    <tr>\n",
       "      <th>0</th>\n",
       "      <td>0.141726</td>\n",
       "      <td>-0.827244</td>\n",
       "      <td>0.033936</td>\n",
       "      <td>0.030985</td>\n",
       "      <td>-1.438793</td>\n",
       "      <td>-1.285234</td>\n",
       "      <td>-0.910522</td>\n",
       "      <td>-0.763774</td>\n",
       "      <td>-0.641358</td>\n",
       "      <td>-1.452675</td>\n",
       "      <td>...</td>\n",
       "      <td>0.037706</td>\n",
       "      <td>-0.628883</td>\n",
       "      <td>-0.107689</td>\n",
       "      <td>-0.073546</td>\n",
       "      <td>-1.385683</td>\n",
       "      <td>-1.141734</td>\n",
       "      <td>-1.070937</td>\n",
       "      <td>-0.853519</td>\n",
       "      <td>-0.611724</td>\n",
       "      <td>-1.507612</td>\n",
       "    </tr>\n",
       "    <tr>\n",
       "      <th>1</th>\n",
       "      <td>-0.440253</td>\n",
       "      <td>-0.680362</td>\n",
       "      <td>-0.431227</td>\n",
       "      <td>-0.495942</td>\n",
       "      <td>1.378014</td>\n",
       "      <td>0.074971</td>\n",
       "      <td>-0.356566</td>\n",
       "      <td>-0.407398</td>\n",
       "      <td>0.483286</td>\n",
       "      <td>0.471565</td>\n",
       "      <td>...</td>\n",
       "      <td>-0.550977</td>\n",
       "      <td>-0.684975</td>\n",
       "      <td>-0.604143</td>\n",
       "      <td>-0.569174</td>\n",
       "      <td>1.109982</td>\n",
       "      <td>-0.494368</td>\n",
       "      <td>-0.390067</td>\n",
       "      <td>-0.458134</td>\n",
       "      <td>0.418540</td>\n",
       "      <td>-0.480588</td>\n",
       "    </tr>\n",
       "    <tr>\n",
       "      <th>2</th>\n",
       "      <td>0.335719</td>\n",
       "      <td>1.406298</td>\n",
       "      <td>0.429507</td>\n",
       "      <td>0.219573</td>\n",
       "      <td>0.837687</td>\n",
       "      <td>1.209866</td>\n",
       "      <td>0.991173</td>\n",
       "      <td>0.983538</td>\n",
       "      <td>0.421810</td>\n",
       "      <td>0.369468</td>\n",
       "      <td>...</td>\n",
       "      <td>0.813789</td>\n",
       "      <td>1.768666</td>\n",
       "      <td>1.221629</td>\n",
       "      <td>0.661315</td>\n",
       "      <td>1.377532</td>\n",
       "      <td>2.212980</td>\n",
       "      <td>1.750168</td>\n",
       "      <td>1.342101</td>\n",
       "      <td>1.855965</td>\n",
       "      <td>0.822278</td>\n",
       "    </tr>\n",
       "    <tr>\n",
       "      <th>3</th>\n",
       "      <td>-0.721402</td>\n",
       "      <td>-1.985982</td>\n",
       "      <td>-0.737267</td>\n",
       "      <td>-0.683692</td>\n",
       "      <td>-0.742768</td>\n",
       "      <td>-0.830163</td>\n",
       "      <td>-0.920411</td>\n",
       "      <td>-1.014483</td>\n",
       "      <td>0.085502</td>\n",
       "      <td>-0.254456</td>\n",
       "      <td>...</td>\n",
       "      <td>-0.801523</td>\n",
       "      <td>-2.052026</td>\n",
       "      <td>-0.762728</td>\n",
       "      <td>-0.713675</td>\n",
       "      <td>-1.030413</td>\n",
       "      <td>-0.572005</td>\n",
       "      <td>-0.898697</td>\n",
       "      <td>-1.020621</td>\n",
       "      <td>0.805919</td>\n",
       "      <td>-0.538542</td>\n",
       "    </tr>\n",
       "    <tr>\n",
       "      <th>4</th>\n",
       "      <td>-1.081273</td>\n",
       "      <td>-1.055728</td>\n",
       "      <td>-1.043713</td>\n",
       "      <td>-0.928157</td>\n",
       "      <td>0.170811</td>\n",
       "      <td>-0.238609</td>\n",
       "      <td>-0.646710</td>\n",
       "      <td>-0.723104</td>\n",
       "      <td>-0.637742</td>\n",
       "      <td>1.028842</td>\n",
       "      <td>...</td>\n",
       "      <td>-1.098920</td>\n",
       "      <td>-0.992682</td>\n",
       "      <td>-1.064157</td>\n",
       "      <td>-0.903654</td>\n",
       "      <td>0.145050</td>\n",
       "      <td>-0.565794</td>\n",
       "      <td>-0.954634</td>\n",
       "      <td>-1.118174</td>\n",
       "      <td>-0.769973</td>\n",
       "      <td>0.048806</td>\n",
       "    </tr>\n",
       "  </tbody>\n",
       "</table>\n",
       "<p>5 rows × 30 columns</p>\n",
       "</div>"
      ],
      "text/plain": [
       "   Radius_mean  Texture_mean  Perimeter_mean  Area_mean  Smoothness_mean  \\\n",
       "0     0.141726     -0.827244        0.033936   0.030985        -1.438793   \n",
       "1    -0.440253     -0.680362       -0.431227  -0.495942         1.378014   \n",
       "2     0.335719      1.406298        0.429507   0.219573         0.837687   \n",
       "3    -0.721402     -1.985982       -0.737267  -0.683692        -0.742768   \n",
       "4    -1.081273     -1.055728       -1.043713  -0.928157         0.170811   \n",
       "\n",
       "   Compactness_mean  Concavity_mean  Concave_points_mean  Symmetry_mean  \\\n",
       "0         -1.285234       -0.910522            -0.763774      -0.641358   \n",
       "1          0.074971       -0.356566            -0.407398       0.483286   \n",
       "2          1.209866        0.991173             0.983538       0.421810   \n",
       "3         -0.830163       -0.920411            -1.014483       0.085502   \n",
       "4         -0.238609       -0.646710            -0.723104      -0.637742   \n",
       "\n",
       "   Fractal_dimension_mean  ...  Radius_worst  Texture_worst  Perimeter_worst  \\\n",
       "0               -1.452675  ...      0.037706      -0.628883        -0.107689   \n",
       "1                0.471565  ...     -0.550977      -0.684975        -0.604143   \n",
       "2                0.369468  ...      0.813789       1.768666         1.221629   \n",
       "3               -0.254456  ...     -0.801523      -2.052026        -0.762728   \n",
       "4                1.028842  ...     -1.098920      -0.992682        -1.064157   \n",
       "\n",
       "   Area_worst  Smoothness_worst  Compactness_worst  Concavity_worst  \\\n",
       "0   -0.073546         -1.385683          -1.141734        -1.070937   \n",
       "1   -0.569174          1.109982          -0.494368        -0.390067   \n",
       "2    0.661315          1.377532           2.212980         1.750168   \n",
       "3   -0.713675         -1.030413          -0.572005        -0.898697   \n",
       "4   -0.903654          0.145050          -0.565794        -0.954634   \n",
       "\n",
       "   Concave_points_worst  Symmetry_worst  Fractal_dimension_worst  \n",
       "0             -0.853519       -0.611724                -1.507612  \n",
       "1             -0.458134        0.418540                -0.480588  \n",
       "2              1.342101        1.855965                 0.822278  \n",
       "3             -1.020621        0.805919                -0.538542  \n",
       "4             -1.118174       -0.769973                 0.048806  \n",
       "\n",
       "[5 rows x 30 columns]"
      ]
     },
     "execution_count": 10,
     "metadata": {},
     "output_type": "execute_result"
    }
   ],
   "source": [
    "X = data.drop(columns=['Diagnosis'])\n",
    "X_train_df = pd.DataFrame(X_train, columns=X.columns)\n",
    "X_train_df.head()"
   ]
  },
  {
   "cell_type": "markdown",
   "id": "f71164f7",
   "metadata": {},
   "source": [
    "# 4. Analysis: three different classifier models"
   ]
  },
  {
   "cell_type": "markdown",
   "id": "5b10bb84",
   "metadata": {},
   "source": [
    "Define a grid search function for tuning our models:"
   ]
  },
  {
   "cell_type": "code",
   "execution_count": 11,
   "id": "a9b9eca1",
   "metadata": {},
   "outputs": [],
   "source": [
    "from sklearn.model_selection import GridSearchCV\n",
    "# Grid search hyperparameters for a logistic regression model\n",
    "def grid_search_lr(X_train, y_train):\n",
    "    params_grid = {\n",
    "    'class_weight': [{0:0.05, 1:0.95}, {0:0.1, 1:0.9}, {0:0.2, 1:0.8}]\n",
    "    }\n",
    "    lr_model = LogisticRegression(random_state=rs, max_iter=1000)\n",
    "    grid_search = GridSearchCV(estimator = lr_model, \n",
    "                           param_grid = params_grid, \n",
    "                           scoring='f1',\n",
    "                           cv = 5, verbose = 1)\n",
    "    grid_search.fit(X_train, y_train)\n",
    "    best_params = grid_search.best_params_\n",
    "    return best_params\n",
    "\n",
    "# Grid search hyperparameters for a random forest model\n",
    "def grid_search_rf(X_train, y_train):\n",
    "    params_grid = {\n",
    "    'max_depth': [5, 10, 15, 20],\n",
    "    'n_estimators': [25, 50, 100],\n",
    "    'min_samples_split': [2, 5],\n",
    "    'class_weight': [{0:0.1, 1:0.9}, {0:0.2, 1:0.8}, {0:0.3, 1:0.7}]\n",
    "    }\n",
    "    rf_model = RandomForestClassifier(random_state=rs)\n",
    "    grid_search = GridSearchCV(estimator = rf_model, \n",
    "                           param_grid = params_grid, \n",
    "                           scoring='f1',\n",
    "                           cv = 5, verbose = 1)\n",
    "    grid_search.fit(X_train, y_train)\n",
    "    best_params = grid_search.best_params_\n",
    "    return best_params"
   ]
  },
  {
   "cell_type": "markdown",
   "id": "cb7c7e65",
   "metadata": {},
   "source": [
    "## 4.1. Logistic regression"
   ]
  },
  {
   "cell_type": "code",
   "execution_count": 12,
   "id": "824c553d",
   "metadata": {},
   "outputs": [
    {
     "name": "stdout",
     "output_type": "stream",
     "text": [
      "Sample Predictions: [0 0 1 1 0 1 1 1 1 1]\n"
     ]
    }
   ],
   "source": [
    "from sklearn.linear_model import LogisticRegression\n",
    "\n",
    "model1 = LogisticRegression(random_state=rs, max_iter=1000)\n",
    "model1.fit(X_train, y_train)\n",
    "preds = model1.predict(X_test)\n",
    "\n",
    "# Display a sample of predictions\n",
    "print(\"Sample Predictions:\", preds[:10])"
   ]
  },
  {
   "cell_type": "markdown",
   "id": "df50061a",
   "metadata": {},
   "source": [
    "Evaluation Metrics:\n",
    "- Precision: The proportion of correctly predicted positive instances out of all instances that were predicted as positive. It answers the question: “Of all the instances labeled as positive by the model, how many were actually positive?”\n",
    "\n",
    "- Recall: The proportion of correctly predicted positive instances out of all actual positive instances. It answers the question: “Of all the actual positive instances, how many did the model successfully identify?”\n",
    "\n",
    "- F-score (or F-beta score): A weighted average of precision and recall, used to evaluate the model’s performance. The beta parameter determines the balance between precision and recall:\n",
    "\n",
    "A beta < 1 gives more weight to precision.\n",
    "A beta > 1 gives more weight to recall.\n",
    "When beta = 1, it is known as the F1 score, which gives equal importance to precision and recall."
   ]
  },
  {
   "cell_type": "code",
   "execution_count": 13,
   "id": "3ef22c52",
   "metadata": {},
   "outputs": [
    {
     "name": "stdout",
     "output_type": "stream",
     "text": [
      "Accuracy: 0.97\n",
      "Precision: 0.95\n",
      "Recall: 0.98\n",
      "Fscore: 0.98\n",
      "AUC: 0.97\n"
     ]
    }
   ],
   "source": [
    "from sklearn.metrics import classification_report, accuracy_score, precision_recall_fscore_support, precision_score, recall_score, roc_auc_score\n",
    "accuracy = accuracy_score(y_test, preds)\n",
    "precision, recall, fbeta, support = precision_recall_fscore_support(y_test, preds, beta=5, pos_label=1, average='binary')\n",
    "auc = roc_auc_score(y_test, preds)\n",
    "print(f\"Accuracy: {accuracy:.2f}\")\n",
    "print(f\"Precision: {precision:.2f}\")\n",
    "print(f\"Recall: {recall:.2f}\")\n",
    "print(f\"Fscore: {fbeta:.2f}\")\n",
    "print(f\"AUC: {auc:.2f}\")"
   ]
  },
  {
   "cell_type": "markdown",
   "id": "a250fcdb",
   "metadata": {},
   "source": [
    "For machine learning tasks on imbalanced datasets like breast cancer detection, we often prioritize recall over precision. Our main goal is to catch all malignant tumors, accepting some false positives since they only lead to extra testing. Missing malignant cases, however, can be life-threatening. Hence, we emphasize maximizing recall first, while striving to maintain high precision to minimize unnecessary procedures. Achieving this balance helps ensure patient safety and supports accurate, efficient clinical decisions."
   ]
  },
  {
   "cell_type": "markdown",
   "id": "835d39a8",
   "metadata": {},
   "source": [
    "As all Evaluation Metrics are high enough, we dont need to be worry about balancing our dataset."
   ]
  },
  {
   "cell_type": "code",
   "execution_count": 14,
   "id": "42ce3bac",
   "metadata": {},
   "outputs": [
    {
     "name": "stdout",
     "output_type": "stream",
     "text": [
      "Top 10 Main Drivers (Predictors):\n",
      "                 Feature  Coefficient  Absolute Coefficient\n",
      "21         Texture_worst     1.326243              1.326243\n",
      "10             Radius_se     1.191549              1.191549\n",
      "28        Symmetry_worst     1.003767              1.003767\n",
      "20          Radius_worst     0.956541              0.956541\n",
      "24      Smoothness_worst     0.922726              0.922726\n",
      "26       Concavity_worst     0.902049              0.902049\n",
      "6         Concavity_mean     0.846807              0.846807\n",
      "13               Area_se     0.844810              0.844810\n",
      "23            Area_worst     0.840843              0.840843\n",
      "27  Concave_points_worst     0.830406              0.830406\n"
     ]
    }
   ],
   "source": [
    "import pandas as pd\n",
    "import numpy as np\n",
    "\n",
    "# Extract feature names from training data\n",
    "feature_names = data.drop(columns=['Diagnosis']).columns  # Get feature names from the original DataFrame\n",
    "\n",
    "# Extract coefficients from the logistic regression model\n",
    "coefficients = model1.coef_.flatten()  # Flatten to a 1D array if necessary\n",
    "\n",
    "# Create a DataFrame to store features and their corresponding coefficients\n",
    "coef_df = pd.DataFrame({\n",
    "    'Feature': feature_names,\n",
    "    'Coefficient': coefficients,\n",
    "    'Absolute Coefficient': np.abs(coefficients)  # To sort by importance\n",
    "})\n",
    "\n",
    "# Sort by absolute value of coefficients to find the most important predictors\n",
    "coef_df = coef_df.sort_values(by='Absolute Coefficient', ascending=False)\n",
    "\n",
    "# Display the top 10 most important features\n",
    "print(\"Top 10 Main Drivers (Predictors):\")\n",
    "print(coef_df.head(10))\n"
   ]
  },
  {
   "cell_type": "markdown",
   "id": "f3762647",
   "metadata": {},
   "source": [
    "## 4.2. Random Forest\n",
    "A method to define and train a random forest:"
   ]
  },
  {
   "cell_type": "code",
   "execution_count": 15,
   "id": "9812718b",
   "metadata": {},
   "outputs": [],
   "source": [
    "from sklearn.ensemble import RandomForestClassifier, GradientBoostingClassifier\n",
    "\n",
    "def build_rf(X_train, y_train, X_test, threshold=0.5, best_params=None):\n",
    "    \n",
    "    model = RandomForestClassifier(random_state = rs)\n",
    "    # If best parameters are provided\n",
    "    if best_params:\n",
    "        model2 = RandomForestClassifier(random_state = rs,\n",
    "                                   # If bootstrap sampling is used\n",
    "                                   bootstrap = best_params['bootstrap'],\n",
    "                                   # Max depth of each tree\n",
    "                                   max_depth = best_params['max_depth'],\n",
    "                                   # Class weight parameters\n",
    "                                   class_weight=best_params['class_weight'],\n",
    "                                   # Number of trees\n",
    "                                   n_estimators=best_params['n_estimators'],\n",
    "                                   # Minimal samples to split\n",
    "                                   min_samples_split=best_params['min_samples_split'])\n",
    "    # Train the model   \n",
    "    model2.fit(X_train, y_train)\n",
    "    # If predicted probability is largr than threshold (default value is 0.5), generate a positive label\n",
    "    predicted_proba = model2.predict_proba(X_test)\n",
    "    yp = (predicted_proba [:,1] >= threshold).astype('int')\n",
    "    return yp, model2"
   ]
  },
  {
   "cell_type": "markdown",
   "id": "e66c3c8a",
   "metadata": {},
   "source": [
    "A method to evaluate a classifier's predictions:"
   ]
  },
  {
   "cell_type": "code",
   "execution_count": 16,
   "id": "0f0eb21f",
   "metadata": {},
   "outputs": [],
   "source": [
    "rs = 123\n",
    "def evaluate(yt, yp, eval_type=\"Original\"):\n",
    "    results_pos = {}\n",
    "    results_pos['type'] = eval_type\n",
    "    # Accuracy\n",
    "    results_pos['accuracy'] = accuracy_score(yt, yp)\n",
    "    # Precision, recall, Fscore\n",
    "    precision, recall, f_beta, _ = precision_recall_fscore_support(yt, yp, beta=5, pos_label=1, average='binary')\n",
    "    results_pos['recall'] = recall\n",
    "    # AUC\n",
    "    results_pos['auc'] = roc_auc_score(yt, yp)\n",
    "    # Precision\n",
    "    results_pos['precision'] = precision\n",
    "    # Fscore\n",
    "    results_pos['fscore'] = f_beta\n",
    "    return results_pos"
   ]
  },
  {
   "cell_type": "markdown",
   "id": "f66e6af9",
   "metadata": {},
   "source": [
    "RandomForestClassifier has many hyperparameters that need to be tuned. we use the provided grid_search_rf() method to play with hyperparameter tuning and find the best parameters"
   ]
  },
  {
   "cell_type": "code",
   "execution_count": 17,
   "id": "908a2824",
   "metadata": {},
   "outputs": [
    {
     "name": "stdout",
     "output_type": "stream",
     "text": [
      "Fitting 5 folds for each of 72 candidates, totalling 360 fits\n",
      "Best parameters: {'class_weight': {0: 0.3, 1: 0.7}, 'max_depth': 5, 'min_samples_split': 2, 'n_estimators': 100}\n"
     ]
    }
   ],
   "source": [
    "best_params = grid_search_rf(X_train, y_train)\n",
    "print(\"Best parameters:\", best_params)\n"
   ]
  },
  {
   "cell_type": "code",
   "execution_count": 18,
   "id": "97eaabec",
   "metadata": {},
   "outputs": [
    {
     "name": "stdout",
     "output_type": "stream",
     "text": [
      "{'type': 'Original', 'accuracy': 0.9473684210526315, 'recall': 0.9761904761904762, 'auc': 0.9533730158730159, 'precision': 0.8913043478260869, 'fscore': 0.9726277372262774}\n"
     ]
    }
   ],
   "source": [
    "# Tuned random forest parameters\n",
    "best_params = {'bootstrap': True,\n",
    "                         'class_weight': {0: 0.3, 1: 0.7}, \n",
    "                         'max_depth': 5, \n",
    "                         'min_samples_split': 2, \n",
    "                         'n_estimators': 100}\n",
    "results = []\n",
    "preds, model2 = build_rf(X_train, y_train, X_test, best_params=best_params)\n",
    "result = evaluate(y_test, preds, \"Original\")\n",
    "print(result)\n",
    "results.append(result)"
   ]
  },
  {
   "cell_type": "code",
   "execution_count": 19,
   "id": "1763930f",
   "metadata": {},
   "outputs": [
    {
     "name": "stdout",
     "output_type": "stream",
     "text": [
      "Accuracy: 0.95\n",
      "Precision: 0.89\n",
      "Recall: 0.98\n",
      "Fscore: 0.97\n",
      "AUC: 0.95\n"
     ]
    }
   ],
   "source": [
    "precision, recall, f_beta, support = precision_recall_fscore_support(y_test, preds, beta=5, pos_label=1, average='binary')\n",
    "auc = roc_auc_score(y_test, preds)\n",
    "accuracy = accuracy_score(y_test, preds)\n",
    "print(f\"Accuracy: {accuracy:.2f}\")\n",
    "print(f\"Precision: {precision:.2f}\")\n",
    "print(f\"Recall: {recall:.2f}\")\n",
    "print(f\"Fscore: {f_beta:.2f}\")\n",
    "print(f\"AUC: {auc:.2f}\")"
   ]
  },
  {
   "cell_type": "markdown",
   "id": "cd2402b0",
   "metadata": {},
   "source": [
    "You can identify the main predictors by using the Random Forest model’s built-in feature importance scores. After training your model, access the .feature_importances_ attribute, sort the features by their scores, and visualize or print the top predictors. This shows which features contribute most to reducing impurity and driving predictions. "
   ]
  },
  {
   "cell_type": "code",
   "execution_count": 20,
   "id": "8f4bfee1",
   "metadata": {},
   "outputs": [
    {
     "name": "stdout",
     "output_type": "stream",
     "text": [
      "Perimeter_worst         0.158911\n",
      "Concave_points_worst    0.151697\n",
      "Concave_points_mean     0.112104\n",
      "Radius_worst            0.099085\n",
      "Area_worst              0.080310\n",
      "Concavity_mean          0.058363\n",
      "Perimeter_mean          0.055360\n",
      "Area_se                 0.046600\n",
      "Concavity_worst         0.038817\n",
      "Area_mean               0.027898\n",
      "dtype: float64\n"
     ]
    },
    {
     "data": {
      "image/png": "[encoded data removed]",
      "text/plain": [
       "<Figure size 432x288 with 1 Axes>"
      ]
     },
     "metadata": {
      "needs_background": "light"
     },
     "output_type": "display_data"
    }
   ],
   "source": [
    "import pandas as pd\n",
    "import matplotlib.pyplot as plt\n",
    "feature_names = list(data.drop(columns=['Diagnosis']).columns)\n",
    "\n",
    "\n",
    "# Get and sort feature importances\n",
    "importance = model2.feature_importances_\n",
    "features = pd.Series(importance, index=feature_names).sort_values(ascending=False)\n",
    "\n",
    "\n",
    "# Display top features\n",
    "print(features.head(10))\n",
    "\n",
    "# Plot top features\n",
    "features.head(10).plot(kind='barh')\n",
    "plt.title('Top 10 Important Features')\n",
    "plt.gca().invert_yaxis()\n",
    "plt.show()"
   ]
  },
  {
   "cell_type": "markdown",
   "id": "05278ebc",
   "metadata": {},
   "source": [
    "## 4.3. GradientBoosting"
   ]
  },
  {
   "cell_type": "code",
   "execution_count": 21,
   "id": "6ff8fe36",
   "metadata": {},
   "outputs": [
    {
     "name": "stdout",
     "output_type": "stream",
     "text": [
      "Accuracy : 0.96\n",
      "Precision : 0.91\n",
      "Recall : 0.98\n",
      "Fscore : 0.94\n",
      "AUC : 0.98\n"
     ]
    }
   ],
   "source": [
    "from sklearn.model_selection import GridSearchCV\n",
    "from sklearn.ensemble import GradientBoostingClassifier\n",
    "from sklearn.metrics import classification_report, roc_auc_score, accuracy_score, precision_score, recall_score, f1_score\n",
    "\n",
    "tree_list = [15, 25, 50, 100]\n",
    "# Define parameter grid\n",
    "param_grid = {\n",
    "    'n_estimators': tree_list,\n",
    "    'learning_rate': [0.1, 0.01, 0.001, 0.0001],\n",
    "    'subsample': [1.0, 0.5],\n",
    "    'max_features': [1, 2, 3, 4]\n",
    "}\n",
    "\n",
    "# Grid Search for best parameters\n",
    "GV_GBC = GridSearchCV(\n",
    "    GradientBoostingClassifier(random_state=42),\n",
    "    param_grid=param_grid,\n",
    "    scoring='accuracy',\n",
    "    n_jobs=-1\n",
    ")\n",
    "\n",
    "# Fit the model\n",
    "GV_GBC.fit(X_train, y_train)\n",
    "\n",
    "# Best model\n",
    "best_model = GV_GBC.best_estimator_\n",
    "\n",
    "# Predictions\n",
    "y_pred = best_model.predict(X_test)\n",
    "y_pred_proba = best_model.predict_proba(X_test)[:, 1]  # For AUC calculation\n",
    "\n",
    "# Metrics\n",
    "accuracy = accuracy_score(y_test, y_pred)\n",
    "precision = precision_score(y_test, y_pred)\n",
    "recall = recall_score(y_test, y_pred)\n",
    "fscore = f1_score(y_test, y_pred)\n",
    "auc = roc_auc_score(y_test, y_pred_proba)\n",
    "\n",
    "# Print results\n",
    "print(f\"Accuracy : {accuracy:.2f}\")\n",
    "print(f\"Precision : {precision:.2f}\")\n",
    "print(f\"Recall : {recall:.2f}\")\n",
    "print(f\"Fscore : {fscore:.2f}\")\n",
    "print(f\"AUC : {auc:.2f}\")\n"
   ]
  },
  {
   "cell_type": "code",
   "execution_count": 22,
   "id": "78ccf366",
   "metadata": {},
   "outputs": [
    {
     "name": "stdout",
     "output_type": "stream",
     "text": [
      "                 Feature  Importance\n",
      "27  Concave_points_worst    0.269734\n",
      "22       Perimeter_worst    0.201756\n",
      "20          Radius_worst    0.172630\n",
      "6         Concavity_mean    0.040363\n",
      "13               Area_se    0.031594\n",
      "7    Concave_points_mean    0.026738\n",
      "25     Compactness_worst    0.024808\n",
      "23            Area_worst    0.024172\n",
      "1           Texture_mean    0.023092\n",
      "28        Symmetry_worst    0.020591\n"
     ]
    },
    {
     "data": {
      "text/plain": [
       "<Figure size 720x432 with 0 Axes>"
      ]
     },
     "metadata": {},
     "output_type": "display_data"
    },
    {
     "data": {
      "image/png": "[encoded data removed]",
      "text/plain": [
       "<Figure size 432x288 with 1 Axes>"
      ]
     },
     "metadata": {
      "needs_background": "light"
     },
     "output_type": "display_data"
    }
   ],
   "source": [
    "import pandas as pd\n",
    "import matplotlib.pyplot as plt\n",
    "\n",
    "feature_names = list(data.drop(columns=['Diagnosis']).columns)\n",
    "\n",
    "\n",
    "# Assuming your trained Gradient Boosting model is called 'gb_model'\n",
    "feature_importances = best_model.feature_importances_\n",
    "\n",
    "# Create a DataFrame for better visualization\n",
    "feature_df = pd.DataFrame({\n",
    "    'Feature': feature_names,\n",
    "    'Importance': feature_importances\n",
    "}).sort_values(by='Importance', ascending=False)\n",
    "\n",
    "# Print the top 10 features\n",
    "print(feature_df.head(10))\n",
    "\n",
    "# Plot feature importance\n",
    "plt.figure(figsize=(10, 6))\n",
    "feature_df.head(10).plot(kind='barh', x='Feature', y='Importance', legend=False)\n",
    "plt.title('Top 10 Important Features in Gradient Boosting')\n",
    "plt.gca().invert_yaxis()\n",
    "plt.show()\n"
   ]
  },
  {
   "cell_type": "markdown",
   "id": "67836859",
   "metadata": {},
   "source": [
    "Comparison of Models' performance:"
   ]
  },
  {
   "cell_type": "code",
   "execution_count": 23,
   "id": "397bf73c",
   "metadata": {},
   "outputs": [
    {
     "name": "stdout",
     "output_type": "stream",
     "text": [
      "                 Model  Accuracy  Precision   Recall    Fscore       AUC\n",
      "0  Logistic Regression  0.973684   0.953488  0.97619  0.964706  0.987434\n",
      "1        Random Forest  0.947368   0.891304  0.97619  0.931818  0.990410\n",
      "2    Gradient Boosting  0.956140   0.911111  0.97619  0.942529  0.982143\n"
     ]
    }
   ],
   "source": [
    "from sklearn.metrics import accuracy_score, precision_score, recall_score, f1_score, roc_auc_score\n",
    "import pandas as pd\n",
    "\n",
    "# Define a function to evaluate metrics and store them in a dictionary\n",
    "def evaluate_and_store_metrics(model_name, y_test, y_pred, y_pred_proba):\n",
    "    return {\n",
    "        'Model': model_name,\n",
    "        'Accuracy': accuracy_score(y_test, y_pred),\n",
    "        'Precision': precision_score(y_test, y_pred),\n",
    "        'Recall': recall_score(y_test, y_pred),\n",
    "        'Fscore': f1_score(y_test, y_pred),\n",
    "        'AUC': roc_auc_score(y_test, y_pred_proba)\n",
    "    }\n",
    "\n",
    "# List to store results for each model\n",
    "results = []\n",
    "\n",
    "# Assuming these are your models and they are already fitted\n",
    "models = {\n",
    "    'Logistic Regression': model1,\n",
    "    'Random Forest': model2,\n",
    "    'Gradient Boosting': best_model  # from your GV_GBC.best_estimator_\n",
    "}\n",
    "\n",
    "# Evaluate and store metrics for each model\n",
    "for model_name, model in models.items():\n",
    "    y_pred = model.predict(X_test)\n",
    "    y_pred_proba = model.predict_proba(X_test)[:, 1]  # For AUC calculation\n",
    "    results.append(evaluate_and_store_metrics(model_name, y_test, y_pred, y_pred_proba))\n",
    "\n",
    "# Create a DataFrame to display the results\n",
    "results_df = pd.DataFrame(results)\n",
    "\n",
    "# Print the table\n",
    "print(results_df)\n"
   ]
  },
  {
   "cell_type": "markdown",
   "id": "5ac43152",
   "metadata": {},
   "source": [
    "# 5. The best model\n",
    "\n",
    "Based on the performance metrics in the table, I recommend the Logistic Regression model as the final choice. It offers the highest accuracy (0.9737) and a strong balance across precision (0.9535), recall (0.9762), F-score (0.9647), and AUC (0.9874). While Random Forest provides a slightly higher AUC (0.9904), it has lower precision (0.8913) compared to Logistic Regression. Additionally, Logistic Regression is more interpretable due to its simpler structure and well-understood coefficients, making it easier to explain the impact of each predictor on the outcome. This combination of high performance and interpretability makes Logistic Regression the most suitable model for our needs."
   ]
  },
  {
   "cell_type": "markdown",
   "id": "c1b0e167",
   "metadata": {},
   "source": [
    "## 5.1. Key Findings and Insights from Logistic Regression Model\n",
    "The logistic regression model has identified the top 10 main drivers influencing the outcome, as indicated by their coefficients. The feature Texture_worst has the highest positive coefficient (1.3262), suggesting that higher values significantly increase the likelihood of the target class. Similarly, Radius_se (1.1915) and Symmetry_worst (1.0038) also play critical roles, implying that variations in these features strongly influence predictions.\n",
    "\n",
    "Concavity_worst (0.9020) and Concavity_mean (0.8468) highlight the importance of concavity-related features in determining the outcome. The inclusion of Area_worst (0.8408) and Smoothness_worst (0.9227) suggests that both size and smoothness of cell nuclei are significant predictors.\n",
    "\n",
    "Overall, the model emphasizes the relevance of shape, size, and texture characteristics in distinguishing between classes, providing actionable insights for further investigation and potential clinical applications.\n"
   ]
  },
  {
   "cell_type": "markdown",
   "id": "280243c9",
   "metadata": {},
   "source": [
    "# 6. Suggestions for Next Steps in Data Analysis\n",
    "To enhance both the predictive power and explainability of the model, the following steps are recommended:\n",
    "\n",
    "Feature Engineering: Create new features that may capture hidden patterns, such as combining related metrics (e.g., combining texture and concavity measures) or generating ratios between features like radius and area.\n",
    "\n",
    "Incorporate External Data: If available, integrate additional clinical data (e.g., patient history, genetic markers) to provide a more holistic model, potentially improving accuracy and interpretability.\n",
    "\n",
    "Dimensionality Reduction: Techniques such as PCA (Principal Component Analysis) or Lasso Regression can help identify and retain only the most important features, reducing noise and improving model clarity.\n",
    "\n",
    "Model Comparison: Consider exploring other interpretable models like Support Vector Machines (SVM) with linear kernels or Decision Trees, which also offer feature importance metrics."
   ]
  },
  {
   "cell_type": "code",
   "execution_count": null,
   "id": "26d9ff1c",
   "metadata": {},
   "outputs": [],
   "source": []
  }
 ],
 "metadata": {
  "kernelspec": {
   "display_name": "Python 3 (ipykernel)",
   "language": "python",
   "name": "python3"
  },
  "language_info": {
   "codemirror_mode": {
    "name": "ipython",
    "version": 3
   },
   "file_extension": ".py",
   "mimetype": "text/x-python",
   "name": "python",
   "nbconvert_exporter": "python",
   "pygments_lexer": "ipython3",
   "version": "3.9.12"
  }
 },
 "nbformat": 4,
 "nbformat_minor": 5
}
